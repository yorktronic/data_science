{
 "cells": [
  {
   "cell_type": "code",
   "execution_count": 16,
   "metadata": {
    "collapsed": false
   },
   "outputs": [],
   "source": [
    "import numpy as np\n",
    "from pandas import Series, DataFrame\n",
    "import pandas as pd\n",
    "import datetime"
   ]
  },
  {
   "cell_type": "code",
   "execution_count": 17,
   "metadata": {
    "collapsed": false
   },
   "outputs": [
    {
     "data": {
      "text/plain": [
       "[pandas.tslib.Timestamp,\n",
       " pandas.tslib._Timestamp,\n",
       " datetime.datetime,\n",
       " datetime.date,\n",
       " object]"
      ]
     },
     "execution_count": 17,
     "metadata": {},
     "output_type": "execute_result"
    }
   ],
   "source": [
    "pd.Timestamp.mro() # mro = method resolution order"
   ]
  },
  {
   "cell_type": "code",
   "execution_count": 18,
   "metadata": {
    "collapsed": false
   },
   "outputs": [
    {
     "data": {
      "text/plain": [
       "Timestamp('2012-07-17 10:06:45')"
      ]
     },
     "execution_count": 18,
     "metadata": {},
     "output_type": "execute_result"
    }
   ],
   "source": [
    "stamp = pd.Timestamp('7/17/2012 10:06:45') #create a timestamp object\n",
    "stamp"
   ]
  },
  {
   "cell_type": "code",
   "execution_count": 19,
   "metadata": {
    "collapsed": false
   },
   "outputs": [
    {
     "data": {
      "text/plain": [
       "7"
      ]
     },
     "execution_count": 19,
     "metadata": {},
     "output_type": "execute_result"
    }
   ],
   "source": [
    "stamp.month"
   ]
  },
  {
   "cell_type": "code",
   "execution_count": 20,
   "metadata": {
    "collapsed": false
   },
   "outputs": [
    {
     "data": {
      "text/plain": [
       "2012"
      ]
     },
     "execution_count": 20,
     "metadata": {},
     "output_type": "execute_result"
    }
   ],
   "source": [
    "stamp.year"
   ]
  },
  {
   "cell_type": "code",
   "execution_count": 21,
   "metadata": {
    "collapsed": false
   },
   "outputs": [
    {
     "data": {
      "text/plain": [
       "1342519605000000000L"
      ]
     },
     "execution_count": 21,
     "metadata": {},
     "output_type": "execute_result"
    }
   ],
   "source": [
    "stamp.value"
   ]
  },
  {
   "cell_type": "code",
   "execution_count": 22,
   "metadata": {
    "collapsed": false
   },
   "outputs": [
    {
     "data": {
      "text/plain": [
       "'20120717'"
      ]
     },
     "execution_count": 22,
     "metadata": {},
     "output_type": "execute_result"
    }
   ],
   "source": [
    "stamp.strftime('%Y%m%d') #supports formatting"
   ]
  },
  {
   "cell_type": "code",
   "execution_count": 23,
   "metadata": {
    "collapsed": false
   },
   "outputs": [
    {
     "data": {
      "text/plain": [
       "['2012-07-16', '2012-07-18', '2012-07-20']"
      ]
     },
     "execution_count": 23,
     "metadata": {},
     "output_type": "execute_result"
    }
   ],
   "source": [
    "dates = ['2012-07-16', '2012-07-18', '2012-07-20']\n",
    "dates"
   ]
  },
  {
   "cell_type": "code",
   "execution_count": 24,
   "metadata": {
    "collapsed": false
   },
   "outputs": [
    {
     "data": {
      "text/plain": [
       "<class 'pandas.tseries.index.DatetimeIndex'>\n",
       "[2012-07-16, ..., 2012-07-20]\n",
       "Length: 3, Freq: None, Timezone: None"
      ]
     },
     "execution_count": 24,
     "metadata": {},
     "output_type": "execute_result"
    }
   ],
   "source": [
    "# Convert this to a timeseries index\n",
    "pd.DatetimeIndex(dates)"
   ]
  },
  {
   "cell_type": "code",
   "execution_count": 25,
   "metadata": {
    "collapsed": false
   },
   "outputs": [
    {
     "data": {
      "text/plain": [
       "<class 'pandas.tseries.index.DatetimeIndex'>\n",
       "[2012-07-16, ..., 2012-07-20]\n",
       "Length: 3, Freq: None, Timezone: None"
      ]
     },
     "execution_count": 25,
     "metadata": {},
     "output_type": "execute_result"
    }
   ],
   "source": [
    "pd.to_datetime(dates) #a little more flexibility, like handling euro dates with dayfirst=True"
   ]
  },
  {
   "cell_type": "code",
   "execution_count": 26,
   "metadata": {
    "collapsed": false
   },
   "outputs": [
    {
     "data": {
      "text/plain": [
       "Timestamp('2012-07-16 00:00:00')"
      ]
     },
     "execution_count": 26,
     "metadata": {},
     "output_type": "execute_result"
    }
   ],
   "source": [
    "ts = Series(range(3), index=pd.to_datetime(dates))\n",
    "ts.index[0]"
   ]
  },
  {
   "cell_type": "markdown",
   "metadata": {},
   "source": [
    "# Indexing"
   ]
  },
  {
   "cell_type": "code",
   "execution_count": 27,
   "metadata": {
    "collapsed": false
   },
   "outputs": [
    {
     "data": {
      "text/plain": [
       "<class 'pandas.tseries.index.DatetimeIndex'>\n",
       "[2012-07-17, ..., 2015-04-12]\n",
       "Length: 1000, Freq: D, Timezone: None"
      ]
     },
     "execution_count": 27,
     "metadata": {},
     "output_type": "execute_result"
    }
   ],
   "source": [
    "rng = pd.date_range('2012-07-17', periods=1000) # Create a range of dates\n",
    "rng"
   ]
  },
  {
   "cell_type": "code",
   "execution_count": 28,
   "metadata": {
    "collapsed": false
   },
   "outputs": [
    {
     "data": {
      "text/plain": [
       "2012-07-17     0\n",
       "2012-07-18     1\n",
       "2012-07-19     2\n",
       "2012-07-20     3\n",
       "2012-07-21     4\n",
       "2012-07-22     5\n",
       "2012-07-23     6\n",
       "2012-07-24     7\n",
       "2012-07-25     8\n",
       "2012-07-26     9\n",
       "2012-07-27    10\n",
       "2012-07-28    11\n",
       "2012-07-29    12\n",
       "2012-07-30    13\n",
       "2012-07-31    14\n",
       "...\n",
       "2015-03-29    985\n",
       "2015-03-30    986\n",
       "2015-03-31    987\n",
       "2015-04-01    988\n",
       "2015-04-02    989\n",
       "2015-04-03    990\n",
       "2015-04-04    991\n",
       "2015-04-05    992\n",
       "2015-04-06    993\n",
       "2015-04-07    994\n",
       "2015-04-08    995\n",
       "2015-04-09    996\n",
       "2015-04-10    997\n",
       "2015-04-11    998\n",
       "2015-04-12    999\n",
       "Freq: D, Length: 1000"
      ]
     },
     "execution_count": 28,
     "metadata": {},
     "output_type": "execute_result"
    }
   ],
   "source": [
    "ts = Series(np.arange(1000), index=rng) # Create a time-series based on the range above\n",
    "ts"
   ]
  },
  {
   "cell_type": "code",
   "execution_count": 35,
   "metadata": {
    "collapsed": true
   },
   "outputs": [],
   "source": [
    "# Freq D = day\n",
    "from datetime import datetime"
   ]
  },
  {
   "cell_type": "code",
   "execution_count": 36,
   "metadata": {
    "collapsed": false
   },
   "outputs": [
    {
     "data": {
      "text/plain": [
       "133"
      ]
     },
     "execution_count": 36,
     "metadata": {},
     "output_type": "execute_result"
    }
   ],
   "source": [
    "ts[datetime(2012, 11, 27)] # Querying the time series with a datetime object"
   ]
  },
  {
   "cell_type": "code",
   "execution_count": 38,
   "metadata": {
    "collapsed": false
   },
   "outputs": [
    {
     "data": {
      "text/plain": [
       "133"
      ]
     },
     "execution_count": 38,
     "metadata": {},
     "output_type": "execute_result"
    }
   ],
   "source": [
    "ts['2012-11-27'] # Querying the time series with a string"
   ]
  },
  {
   "cell_type": "code",
   "execution_count": 42,
   "metadata": {
    "collapsed": false
   },
   "outputs": [
    {
     "data": {
      "text/plain": [
       "2012-07-17     0\n",
       "2012-07-18     1\n",
       "2012-07-19     2\n",
       "2012-07-20     3\n",
       "2012-07-21     4\n",
       "2012-07-22     5\n",
       "2012-07-23     6\n",
       "2012-07-24     7\n",
       "2012-07-25     8\n",
       "2012-07-26     9\n",
       "2012-07-27    10\n",
       "2012-07-28    11\n",
       "2012-07-29    12\n",
       "2012-07-30    13\n",
       "2012-07-31    14\n",
       "2012-08-01    15\n",
       "Freq: D, dtype: int32"
      ]
     },
     "execution_count": 42,
     "metadata": {},
     "output_type": "execute_result"
    }
   ],
   "source": [
    "ts[:'2012-8-01'] # Data up to and including 8/1 - end point is inclusive here but in standard python indexes, the end point is not inclusive"
   ]
  },
  {
   "cell_type": "code",
   "execution_count": 44,
   "metadata": {
    "collapsed": false
   },
   "outputs": [
    {
     "data": {
      "text/plain": [
       "2012-07-21     4\n",
       "2012-07-22     5\n",
       "2012-07-23     6\n",
       "2012-07-24     7\n",
       "2012-07-25     8\n",
       "2012-07-26     9\n",
       "2012-07-27    10\n",
       "2012-07-28    11\n",
       "2012-07-29    12\n",
       "2012-07-30    13\n",
       "2012-07-31    14\n",
       "2012-08-01    15\n",
       "Freq: D, dtype: int32"
      ]
     },
     "execution_count": 44,
     "metadata": {},
     "output_type": "execute_result"
    }
   ],
   "source": [
    "ts['2012-07-20 07:00':'2012-8-01 12:00'] # Works with time stamps that aren't in the series"
   ]
  },
  {
   "cell_type": "code",
   "execution_count": 46,
   "metadata": {
    "collapsed": false
   },
   "outputs": [
    {
     "data": {
      "text/plain": [
       "2012-07-17     0\n",
       "2012-07-18     1\n",
       "2012-07-19     2\n",
       "2012-07-20     3\n",
       "2012-07-21     4\n",
       "2012-07-22     5\n",
       "2012-07-23     6\n",
       "2012-07-24     7\n",
       "2012-07-25     8\n",
       "2012-07-26     9\n",
       "2012-07-27    10\n",
       "2012-07-28    11\n",
       "2012-07-29    12\n",
       "2012-07-30    13\n",
       "2012-07-31    14\n",
       "...\n",
       "2015-03-29    985\n",
       "2015-03-30    986\n",
       "2015-03-31    987\n",
       "2015-04-01    988\n",
       "2015-04-02    989\n",
       "2015-04-03    990\n",
       "2015-04-04    991\n",
       "2015-04-05    992\n",
       "2015-04-06    993\n",
       "2015-04-07    994\n",
       "2015-04-08    995\n",
       "2015-04-09    996\n",
       "2015-04-10    997\n",
       "2015-04-11    998\n",
       "2015-04-12    999\n",
       "Length: 1000"
      ]
     },
     "execution_count": 46,
     "metadata": {},
     "output_type": "execute_result"
    }
   ],
   "source": [
    "ts2 = ts.take(np.random.permutation(len(ts))) # Randomize the time series indexes\n",
    "ts2.sort_index() # Put them back in order"
   ]
  },
  {
   "cell_type": "code",
   "execution_count": 47,
   "metadata": {
    "collapsed": false
   },
   "outputs": [
    {
     "data": {
      "text/plain": [
       "2012-07-17     0\n",
       "2012-07-18     1\n",
       "2012-07-19     2\n",
       "2012-07-20     3\n",
       "2012-07-21     4\n",
       "2012-07-22     5\n",
       "2012-07-23     6\n",
       "2012-07-24     7\n",
       "2012-07-25     8\n",
       "2012-07-26     9\n",
       "2012-07-27    10\n",
       "2012-07-28    11\n",
       "2012-07-29    12\n",
       "2012-07-30    13\n",
       "2012-07-31    14\n",
       "Freq: D, dtype: int32"
      ]
     },
     "execution_count": 47,
     "metadata": {},
     "output_type": "execute_result"
    }
   ],
   "source": [
    "ts['2012-7'] # you can just enter a month and it will display everything from that month"
   ]
  },
  {
   "cell_type": "code",
   "execution_count": 52,
   "metadata": {
    "collapsed": false
   },
   "outputs": [
    {
     "data": {
      "text/html": [
       "<div style=\"max-height:1000px;max-width:1500px;overflow:auto;\">\n",
       "<table border=\"1\" class=\"dataframe\">\n",
       "  <thead>\n",
       "    <tr style=\"text-align: right;\">\n",
       "      <th></th>\n",
       "      <th>Colorado</th>\n",
       "      <th>Texas</th>\n",
       "      <th>New York</th>\n",
       "      <th>Ohio</th>\n",
       "    </tr>\n",
       "  </thead>\n",
       "  <tbody>\n",
       "    <tr>\n",
       "      <th>2012-07-17</th>\n",
       "      <td>  0</td>\n",
       "      <td>  1</td>\n",
       "      <td>  2</td>\n",
       "      <td>  3</td>\n",
       "    </tr>\n",
       "    <tr>\n",
       "      <th>2012-07-18</th>\n",
       "      <td>  4</td>\n",
       "      <td>  5</td>\n",
       "      <td>  6</td>\n",
       "      <td>  7</td>\n",
       "    </tr>\n",
       "    <tr>\n",
       "      <th>2012-07-19</th>\n",
       "      <td>  8</td>\n",
       "      <td>  9</td>\n",
       "      <td> 10</td>\n",
       "      <td> 11</td>\n",
       "    </tr>\n",
       "    <tr>\n",
       "      <th>2012-07-20</th>\n",
       "      <td> 12</td>\n",
       "      <td> 13</td>\n",
       "      <td> 14</td>\n",
       "      <td> 15</td>\n",
       "    </tr>\n",
       "    <tr>\n",
       "      <th>2012-07-21</th>\n",
       "      <td> 16</td>\n",
       "      <td> 17</td>\n",
       "      <td> 18</td>\n",
       "      <td> 19</td>\n",
       "    </tr>\n",
       "  </tbody>\n",
       "</table>\n",
       "</div>"
      ],
      "text/plain": [
       "            Colorado  Texas  New York  Ohio\n",
       "2012-07-17         0      1         2     3\n",
       "2012-07-18         4      5         6     7\n",
       "2012-07-19         8      9        10    11\n",
       "2012-07-20        12     13        14    15\n",
       "2012-07-21        16     17        18    19"
      ]
     },
     "execution_count": 52,
     "metadata": {},
     "output_type": "execute_result"
    }
   ],
   "source": [
    "df = DataFrame(np.arange(4000).reshape((1000,4)), index=rng, columns=['Colorado', 'Texas', 'New York', 'Ohio'])\n",
    "df.head() # Create a dataframe with 4000 entries but shaped to be 1000 rows with 4 columns\n",
    "# arange = a range... creates a range"
   ]
  },
  {
   "cell_type": "code",
   "execution_count": 53,
   "metadata": {
    "collapsed": false
   },
   "outputs": [
    {
     "data": {
      "text/plain": [
       "Colorado    12\n",
       "Texas       13\n",
       "New York    14\n",
       "Ohio        15\n",
       "Name: 2012-07-20 00:00:00, dtype: int32"
      ]
     },
     "execution_count": 53,
     "metadata": {},
     "output_type": "execute_result"
    }
   ],
   "source": [
    "df.ix['2012-07-20']"
   ]
  },
  {
   "cell_type": "code",
   "execution_count": 54,
   "metadata": {
    "collapsed": false
   },
   "outputs": [
    {
     "data": {
      "text/html": [
       "<div style=\"max-height:1000px;max-width:1500px;overflow:auto;\">\n",
       "<table border=\"1\" class=\"dataframe\">\n",
       "  <thead>\n",
       "    <tr style=\"text-align: right;\">\n",
       "      <th></th>\n",
       "      <th>Colorado</th>\n",
       "      <th>Texas</th>\n",
       "      <th>New York</th>\n",
       "      <th>Ohio</th>\n",
       "    </tr>\n",
       "  </thead>\n",
       "  <tbody>\n",
       "    <tr>\n",
       "      <th>2012-12-31</th>\n",
       "      <td> 668</td>\n",
       "      <td> 669</td>\n",
       "      <td> 670</td>\n",
       "      <td> 671</td>\n",
       "    </tr>\n",
       "    <tr>\n",
       "      <th>2013-01-01</th>\n",
       "      <td> 672</td>\n",
       "      <td> 673</td>\n",
       "      <td> 674</td>\n",
       "      <td> 675</td>\n",
       "    </tr>\n",
       "    <tr>\n",
       "      <th>2013-01-02</th>\n",
       "      <td> 676</td>\n",
       "      <td> 677</td>\n",
       "      <td> 678</td>\n",
       "      <td> 679</td>\n",
       "    </tr>\n",
       "    <tr>\n",
       "      <th>2013-01-03</th>\n",
       "      <td> 680</td>\n",
       "      <td> 681</td>\n",
       "      <td> 682</td>\n",
       "      <td> 683</td>\n",
       "    </tr>\n",
       "    <tr>\n",
       "      <th>2013-01-04</th>\n",
       "      <td> 684</td>\n",
       "      <td> 685</td>\n",
       "      <td> 686</td>\n",
       "      <td> 687</td>\n",
       "    </tr>\n",
       "    <tr>\n",
       "      <th>2013-01-05</th>\n",
       "      <td> 688</td>\n",
       "      <td> 689</td>\n",
       "      <td> 690</td>\n",
       "      <td> 691</td>\n",
       "    </tr>\n",
       "    <tr>\n",
       "      <th>2013-01-06</th>\n",
       "      <td> 692</td>\n",
       "      <td> 693</td>\n",
       "      <td> 694</td>\n",
       "      <td> 695</td>\n",
       "    </tr>\n",
       "    <tr>\n",
       "      <th>2013-01-07</th>\n",
       "      <td> 696</td>\n",
       "      <td> 697</td>\n",
       "      <td> 698</td>\n",
       "      <td> 699</td>\n",
       "    </tr>\n",
       "    <tr>\n",
       "      <th>2013-01-08</th>\n",
       "      <td> 700</td>\n",
       "      <td> 701</td>\n",
       "      <td> 702</td>\n",
       "      <td> 703</td>\n",
       "    </tr>\n",
       "    <tr>\n",
       "      <th>2013-01-09</th>\n",
       "      <td> 704</td>\n",
       "      <td> 705</td>\n",
       "      <td> 706</td>\n",
       "      <td> 707</td>\n",
       "    </tr>\n",
       "    <tr>\n",
       "      <th>2013-01-10</th>\n",
       "      <td> 708</td>\n",
       "      <td> 709</td>\n",
       "      <td> 710</td>\n",
       "      <td> 711</td>\n",
       "    </tr>\n",
       "    <tr>\n",
       "      <th>2013-01-11</th>\n",
       "      <td> 712</td>\n",
       "      <td> 713</td>\n",
       "      <td> 714</td>\n",
       "      <td> 715</td>\n",
       "    </tr>\n",
       "  </tbody>\n",
       "</table>\n",
       "</div>"
      ],
      "text/plain": [
       "            Colorado  Texas  New York  Ohio\n",
       "2012-12-31       668    669       670   671\n",
       "2013-01-01       672    673       674   675\n",
       "2013-01-02       676    677       678   679\n",
       "2013-01-03       680    681       682   683\n",
       "2013-01-04       684    685       686   687\n",
       "2013-01-05       688    689       690   691\n",
       "2013-01-06       692    693       694   695\n",
       "2013-01-07       696    697       698   699\n",
       "2013-01-08       700    701       702   703\n",
       "2013-01-09       704    705       706   707\n",
       "2013-01-10       708    709       710   711\n",
       "2013-01-11       712    713       714   715"
      ]
     },
     "execution_count": 54,
     "metadata": {},
     "output_type": "execute_result"
    }
   ],
   "source": [
    "from datetime import timedelta\n",
    "start = datetime(2012, 12, 31) # Display the entries for 12/31 to 11 days after 12/31\n",
    "df.ix[start:start + timedelta(days=11)]"
   ]
  },
  {
   "cell_type": "markdown",
   "metadata": {},
   "source": [
    "# Frequencies"
   ]
  },
  {
   "cell_type": "raw",
   "metadata": {},
   "source": []
  }
 ],
 "metadata": {
  "kernelspec": {
   "display_name": "Python 2",
   "language": "python",
   "name": "python2"
  },
  "language_info": {
   "codemirror_mode": {
    "name": "ipython",
    "version": 2
   },
   "file_extension": ".py",
   "mimetype": "text/x-python",
   "name": "python",
   "nbconvert_exporter": "python",
   "pygments_lexer": "ipython2",
   "version": "2.7.9"
  }
 },
 "nbformat": 4,
 "nbformat_minor": 0
}
