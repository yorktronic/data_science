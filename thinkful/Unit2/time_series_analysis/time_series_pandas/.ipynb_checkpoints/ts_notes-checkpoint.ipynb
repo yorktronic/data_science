{
 "cells": [
  {
   "cell_type": "code",
   "execution_count": 2,
   "metadata": {
    "collapsed": true
   },
   "outputs": [],
   "source": [
    "from pandas import Series, DataFrame\n",
    "import pandas as pd\n",
    "import numpy as np\n",
    "from datetime import datetime\n",
    "#pd.set_printoptions(notebook_repr_html=False)\n",
    "\n",
    "from pandas import *\n",
    "\n",
    "import matplotlib as mpl"
   ]
  },
  {
   "cell_type": "code",
   "execution_count": 3,
   "metadata": {
    "collapsed": true
   },
   "outputs": [],
   "source": [
    "dates = pd.date_range('2012-07-16', '2012-07-21')\n",
    "atemps = Series([101.5, 98, 95, 99, 100, 92], index = dates)"
   ]
  },
  {
   "cell_type": "code",
   "execution_count": 4,
   "metadata": {
    "collapsed": false
   },
   "outputs": [
    {
     "data": {
      "text/plain": [
       "2012-07-16    101.5\n",
       "2012-07-17     98.0\n",
       "2012-07-18     95.0\n",
       "2012-07-19     99.0\n",
       "2012-07-20    100.0\n",
       "2012-07-21     92.0\n",
       "Freq: D, dtype: float64"
      ]
     },
     "execution_count": 4,
     "metadata": {},
     "output_type": "execute_result"
    }
   ],
   "source": [
    "atemps"
   ]
  },
  {
   "cell_type": "code",
   "execution_count": 5,
   "metadata": {
    "collapsed": true
   },
   "outputs": [],
   "source": [
    "# Created a series of temps with datetime objects as the indicies"
   ]
  },
  {
   "cell_type": "code",
   "execution_count": 6,
   "metadata": {
    "collapsed": false
   },
   "outputs": [
    {
     "data": {
      "text/plain": [
       "95.0"
      ]
     },
     "execution_count": 6,
     "metadata": {},
     "output_type": "execute_result"
    }
   ],
   "source": [
    "idx = atemps.index[2]\n",
    "atemps[idx]"
   ]
  },
  {
   "cell_type": "code",
   "execution_count": 7,
   "metadata": {
    "collapsed": true
   },
   "outputs": [],
   "source": [
    "sdtemps = Series([73, 78, 77, 78, 78, 77], index=dates)"
   ]
  },
  {
   "cell_type": "code",
   "execution_count": 8,
   "metadata": {
    "collapsed": true
   },
   "outputs": [],
   "source": [
    "temps = DataFrame({'Austin' : atemps, 'San Diego': sdtemps})"
   ]
  },
  {
   "cell_type": "code",
   "execution_count": 9,
   "metadata": {
    "collapsed": false
   },
   "outputs": [
    {
     "data": {
      "text/html": [
       "<div style=\"max-height:1000px;max-width:1500px;overflow:auto;\">\n",
       "<table border=\"1\" class=\"dataframe\">\n",
       "  <thead>\n",
       "    <tr style=\"text-align: right;\">\n",
       "      <th></th>\n",
       "      <th>Austin</th>\n",
       "      <th>San Diego</th>\n",
       "    </tr>\n",
       "  </thead>\n",
       "  <tbody>\n",
       "    <tr>\n",
       "      <th>2012-07-16</th>\n",
       "      <td> 101.5</td>\n",
       "      <td> 73</td>\n",
       "    </tr>\n",
       "    <tr>\n",
       "      <th>2012-07-17</th>\n",
       "      <td>  98.0</td>\n",
       "      <td> 78</td>\n",
       "    </tr>\n",
       "    <tr>\n",
       "      <th>2012-07-18</th>\n",
       "      <td>  95.0</td>\n",
       "      <td> 77</td>\n",
       "    </tr>\n",
       "    <tr>\n",
       "      <th>2012-07-19</th>\n",
       "      <td>  99.0</td>\n",
       "      <td> 78</td>\n",
       "    </tr>\n",
       "    <tr>\n",
       "      <th>2012-07-20</th>\n",
       "      <td> 100.0</td>\n",
       "      <td> 78</td>\n",
       "    </tr>\n",
       "    <tr>\n",
       "      <th>2012-07-21</th>\n",
       "      <td>  92.0</td>\n",
       "      <td> 77</td>\n",
       "    </tr>\n",
       "  </tbody>\n",
       "</table>\n",
       "</div>"
      ],
      "text/plain": [
       "            Austin  San Diego\n",
       "2012-07-16   101.5         73\n",
       "2012-07-17    98.0         78\n",
       "2012-07-18    95.0         77\n",
       "2012-07-19    99.0         78\n",
       "2012-07-20   100.0         78\n",
       "2012-07-21    92.0         77"
      ]
     },
     "execution_count": 9,
     "metadata": {},
     "output_type": "execute_result"
    }
   ],
   "source": [
    "temps"
   ]
  },
  {
   "cell_type": "code",
   "execution_count": 10,
   "metadata": {
    "collapsed": false
   },
   "outputs": [
    {
     "data": {
      "text/plain": [
       "2012-07-16    73\n",
       "2012-07-17    78\n",
       "2012-07-18    77\n",
       "2012-07-19    78\n",
       "2012-07-20    78\n",
       "2012-07-21    77\n",
       "Freq: D, Name: San Diego, dtype: int64"
      ]
     },
     "execution_count": 10,
     "metadata": {},
     "output_type": "execute_result"
    }
   ],
   "source": [
    "temps['San Diego']"
   ]
  },
  {
   "cell_type": "code",
   "execution_count": 11,
   "metadata": {
    "collapsed": true
   },
   "outputs": [],
   "source": [
    "temps['Diff'] = temps['Austin'] - temps['San Diego']"
   ]
  },
  {
   "cell_type": "code",
   "execution_count": 12,
   "metadata": {
    "collapsed": false
   },
   "outputs": [
    {
     "data": {
      "text/html": [
       "<div style=\"max-height:1000px;max-width:1500px;overflow:auto;\">\n",
       "<table border=\"1\" class=\"dataframe\">\n",
       "  <thead>\n",
       "    <tr style=\"text-align: right;\">\n",
       "      <th></th>\n",
       "      <th>Austin</th>\n",
       "      <th>San Diego</th>\n",
       "      <th>Diff</th>\n",
       "    </tr>\n",
       "  </thead>\n",
       "  <tbody>\n",
       "    <tr>\n",
       "      <th>2012-07-16</th>\n",
       "      <td> 101.5</td>\n",
       "      <td> 73</td>\n",
       "      <td> 28.5</td>\n",
       "    </tr>\n",
       "    <tr>\n",
       "      <th>2012-07-17</th>\n",
       "      <td>  98.0</td>\n",
       "      <td> 78</td>\n",
       "      <td> 20.0</td>\n",
       "    </tr>\n",
       "    <tr>\n",
       "      <th>2012-07-18</th>\n",
       "      <td>  95.0</td>\n",
       "      <td> 77</td>\n",
       "      <td> 18.0</td>\n",
       "    </tr>\n",
       "    <tr>\n",
       "      <th>2012-07-19</th>\n",
       "      <td>  99.0</td>\n",
       "      <td> 78</td>\n",
       "      <td> 21.0</td>\n",
       "    </tr>\n",
       "    <tr>\n",
       "      <th>2012-07-20</th>\n",
       "      <td> 100.0</td>\n",
       "      <td> 78</td>\n",
       "      <td> 22.0</td>\n",
       "    </tr>\n",
       "    <tr>\n",
       "      <th>2012-07-21</th>\n",
       "      <td>  92.0</td>\n",
       "      <td> 77</td>\n",
       "      <td> 15.0</td>\n",
       "    </tr>\n",
       "  </tbody>\n",
       "</table>\n",
       "</div>"
      ],
      "text/plain": [
       "            Austin  San Diego  Diff\n",
       "2012-07-16   101.5         73  28.5\n",
       "2012-07-17    98.0         78  20.0\n",
       "2012-07-18    95.0         77  18.0\n",
       "2012-07-19    99.0         78  21.0\n",
       "2012-07-20   100.0         78  22.0\n",
       "2012-07-21    92.0         77  15.0"
      ]
     },
     "execution_count": 12,
     "metadata": {},
     "output_type": "execute_result"
    }
   ],
   "source": [
    "temps"
   ]
  },
  {
   "cell_type": "code",
   "execution_count": 13,
   "metadata": {
    "collapsed": false
   },
   "outputs": [
    {
     "data": {
      "text/html": [
       "<div style=\"max-height:1000px;max-width:1500px;overflow:auto;\">\n",
       "<table border=\"1\" class=\"dataframe\">\n",
       "  <thead>\n",
       "    <tr style=\"text-align: right;\">\n",
       "      <th></th>\n",
       "      <th>Austin</th>\n",
       "      <th>San Diego</th>\n",
       "    </tr>\n",
       "  </thead>\n",
       "  <tbody>\n",
       "    <tr>\n",
       "      <th>2012-07-16</th>\n",
       "      <td> 101.5</td>\n",
       "      <td> 73</td>\n",
       "    </tr>\n",
       "    <tr>\n",
       "      <th>2012-07-17</th>\n",
       "      <td>  98.0</td>\n",
       "      <td> 78</td>\n",
       "    </tr>\n",
       "    <tr>\n",
       "      <th>2012-07-18</th>\n",
       "      <td>  95.0</td>\n",
       "      <td> 77</td>\n",
       "    </tr>\n",
       "    <tr>\n",
       "      <th>2012-07-19</th>\n",
       "      <td>  99.0</td>\n",
       "      <td> 78</td>\n",
       "    </tr>\n",
       "    <tr>\n",
       "      <th>2012-07-20</th>\n",
       "      <td> 100.0</td>\n",
       "      <td> 78</td>\n",
       "    </tr>\n",
       "    <tr>\n",
       "      <th>2012-07-21</th>\n",
       "      <td>  92.0</td>\n",
       "      <td> 77</td>\n",
       "    </tr>\n",
       "  </tbody>\n",
       "</table>\n",
       "</div>"
      ],
      "text/plain": [
       "            Austin  San Diego\n",
       "2012-07-16   101.5         73\n",
       "2012-07-17    98.0         78\n",
       "2012-07-18    95.0         77\n",
       "2012-07-19    99.0         78\n",
       "2012-07-20   100.0         78\n",
       "2012-07-21    92.0         77"
      ]
     },
     "execution_count": 13,
     "metadata": {},
     "output_type": "execute_result"
    }
   ],
   "source": [
    "del temps['Diff']\n",
    "temps"
   ]
  },
  {
   "cell_type": "code",
   "execution_count": 14,
   "metadata": {
    "collapsed": true
   },
   "outputs": [],
   "source": [
    "# Stopped lecture at 34:37 https://www.youtube.com/watch?v=0unf-C-pBYE"
   ]
  },
  {
   "cell_type": "code",
   "execution_count": 15,
   "metadata": {
    "collapsed": false
   },
   "outputs": [
    {
     "data": {
      "text/plain": [
       "<class 'pandas.tseries.index.DatetimeIndex'>\n",
       "[2012-07-16, ..., 2012-07-21]\n",
       "Length: 6, Freq: D, Timezone: None"
      ]
     },
     "execution_count": 15,
     "metadata": {},
     "output_type": "execute_result"
    }
   ],
   "source": [
    "temps.index"
   ]
  },
  {
   "cell_type": "code",
   "execution_count": 16,
   "metadata": {
    "collapsed": false
   },
   "outputs": [
    {
     "data": {
      "text/plain": [
       "Index([u'Austin', u'San Diego'], dtype='object')"
      ]
     },
     "execution_count": 16,
     "metadata": {},
     "output_type": "execute_result"
    }
   ],
   "source": [
    "temps.columns"
   ]
  },
  {
   "cell_type": "code",
   "execution_count": 17,
   "metadata": {
    "collapsed": false
   },
   "outputs": [
    {
     "data": {
      "text/plain": [
       "array(['Austin', 'San Diego'], dtype=object)"
      ]
     },
     "execution_count": 17,
     "metadata": {},
     "output_type": "execute_result"
    }
   ],
   "source": [
    "temps.columns.values"
   ]
  },
  {
   "cell_type": "code",
   "execution_count": 23,
   "metadata": {
    "collapsed": false
   },
   "outputs": [
    {
     "data": {
      "text/plain": [
       "Austin       95\n",
       "San Diego    77\n",
       "Name: 2012-07-18 00:00:00, dtype: float64"
      ]
     },
     "execution_count": 23,
     "metadata": {},
     "output_type": "execute_result"
    }
   ],
   "source": [
    "temps.ix[2] #Selects the row @ index 2"
   ]
  },
  {
   "cell_type": "code",
   "execution_count": 24,
   "metadata": {
    "collapsed": false
   },
   "outputs": [
    {
     "data": {
      "text/html": [
       "<div style=\"max-height:1000px;max-width:1500px;overflow:auto;\">\n",
       "<table border=\"1\" class=\"dataframe\">\n",
       "  <thead>\n",
       "    <tr style=\"text-align: right;\">\n",
       "      <th></th>\n",
       "      <th>San Diego</th>\n",
       "      <th>Austin</th>\n",
       "    </tr>\n",
       "  </thead>\n",
       "  <tbody>\n",
       "    <tr>\n",
       "      <th>2012-07-18</th>\n",
       "      <td> 77</td>\n",
       "      <td>  95</td>\n",
       "    </tr>\n",
       "    <tr>\n",
       "      <th>2012-07-19</th>\n",
       "      <td> 78</td>\n",
       "      <td>  99</td>\n",
       "    </tr>\n",
       "    <tr>\n",
       "      <th>2012-07-20</th>\n",
       "      <td> 78</td>\n",
       "      <td> 100</td>\n",
       "    </tr>\n",
       "    <tr>\n",
       "      <th>2012-07-21</th>\n",
       "      <td> 77</td>\n",
       "      <td>  92</td>\n",
       "    </tr>\n",
       "  </tbody>\n",
       "</table>\n",
       "</div>"
      ],
      "text/plain": [
       "            San Diego  Austin\n",
       "2012-07-18         77      95\n",
       "2012-07-19         78      99\n",
       "2012-07-20         78     100\n",
       "2012-07-21         77      92"
      ]
     },
     "execution_count": 24,
     "metadata": {},
     "output_type": "execute_result"
    }
   ],
   "source": [
    "idx = temps.index[2] #idx = the timestamp at index 2\n",
    "temps.ix[idx:, ['San Diego', 'Austin']] #slice on or after index 2 and flips San Diego and Austin"
   ]
  },
  {
   "cell_type": "code",
   "execution_count": 29,
   "metadata": {
    "collapsed": false
   },
   "outputs": [
    {
     "data": {
      "text/plain": [
       "Austin       97.583333\n",
       "San Diego    76.833333\n",
       "dtype: float64"
      ]
     },
     "execution_count": 29,
     "metadata": {},
     "output_type": "execute_result"
    }
   ],
   "source": [
    "temps.mean()"
   ]
  },
  {
   "cell_type": "code",
   "execution_count": 31,
   "metadata": {
    "collapsed": false
   },
   "outputs": [
    {
     "data": {
      "text/html": [
       "<div style=\"max-height:1000px;max-width:1500px;overflow:auto;\">\n",
       "<table border=\"1\" class=\"dataframe\">\n",
       "  <thead>\n",
       "    <tr style=\"text-align: right;\">\n",
       "      <th></th>\n",
       "      <th>Austin</th>\n",
       "      <th>San Diego</th>\n",
       "    </tr>\n",
       "  </thead>\n",
       "  <tbody>\n",
       "    <tr>\n",
       "      <th>2012-07-16</th>\n",
       "      <td> 3.916667</td>\n",
       "      <td>-3.833333</td>\n",
       "    </tr>\n",
       "    <tr>\n",
       "      <th>2012-07-17</th>\n",
       "      <td> 0.416667</td>\n",
       "      <td> 1.166667</td>\n",
       "    </tr>\n",
       "    <tr>\n",
       "      <th>2012-07-18</th>\n",
       "      <td>-2.583333</td>\n",
       "      <td> 0.166667</td>\n",
       "    </tr>\n",
       "    <tr>\n",
       "      <th>2012-07-19</th>\n",
       "      <td> 1.416667</td>\n",
       "      <td> 1.166667</td>\n",
       "    </tr>\n",
       "    <tr>\n",
       "      <th>2012-07-20</th>\n",
       "      <td> 2.416667</td>\n",
       "      <td> 1.166667</td>\n",
       "    </tr>\n",
       "    <tr>\n",
       "      <th>2012-07-21</th>\n",
       "      <td>-5.583333</td>\n",
       "      <td> 0.166667</td>\n",
       "    </tr>\n",
       "  </tbody>\n",
       "</table>\n",
       "</div>"
      ],
      "text/plain": [
       "              Austin  San Diego\n",
       "2012-07-16  3.916667  -3.833333\n",
       "2012-07-17  0.416667   1.166667\n",
       "2012-07-18 -2.583333   0.166667\n",
       "2012-07-19  1.416667   1.166667\n",
       "2012-07-20  2.416667   1.166667\n",
       "2012-07-21 -5.583333   0.166667"
      ]
     },
     "execution_count": 31,
     "metadata": {},
     "output_type": "execute_result"
    }
   ],
   "source": [
    "temps - temps.mean() #difference from the mean for each city"
   ]
  },
  {
   "cell_type": "code",
   "execution_count": 32,
   "metadata": {
    "collapsed": false
   },
   "outputs": [
    {
     "data": {
      "text/html": [
       "<div style=\"max-height:1000px;max-width:1500px;overflow:auto;\">\n",
       "<table border=\"1\" class=\"dataframe\">\n",
       "  <thead>\n",
       "    <tr style=\"text-align: right;\">\n",
       "      <th></th>\n",
       "      <th>Austin</th>\n",
       "      <th>San Diego</th>\n",
       "    </tr>\n",
       "  </thead>\n",
       "  <tbody>\n",
       "    <tr>\n",
       "      <th>2012-07-16</th>\n",
       "      <td> 101.5</td>\n",
       "      <td> 73</td>\n",
       "    </tr>\n",
       "  </tbody>\n",
       "</table>\n",
       "</div>"
      ],
      "text/plain": [
       "            Austin  San Diego\n",
       "2012-07-16   101.5         73"
      ]
     },
     "execution_count": 32,
     "metadata": {},
     "output_type": "execute_result"
    }
   ],
   "source": [
    "temps[temps.Austin > 100] # Select the data where Austin was hotter than 100 degrees"
   ]
  },
  {
   "cell_type": "code",
   "execution_count": 37,
   "metadata": {
    "collapsed": false
   },
   "outputs": [
    {
     "data": {
      "text/html": [
       "<div style=\"max-height:1000px;max-width:1500px;overflow:auto;\">\n",
       "<table border=\"1\" class=\"dataframe\">\n",
       "  <thead>\n",
       "    <tr style=\"text-align: right;\">\n",
       "      <th></th>\n",
       "      <th>date</th>\n",
       "      <th>0</th>\n",
       "      <th>1</th>\n",
       "      <th>2</th>\n",
       "      <th>3</th>\n",
       "    </tr>\n",
       "  </thead>\n",
       "  <tbody>\n",
       "    <tr>\n",
       "      <th>0</th>\n",
       "      <td> 2000-01-01 00:00:00</td>\n",
       "      <td> 1.103763</td>\n",
       "      <td>-1.909979</td>\n",
       "      <td>-0.808956</td>\n",
       "      <td>-2.392629</td>\n",
       "    </tr>\n",
       "    <tr>\n",
       "      <th>1</th>\n",
       "      <td> 2000-01-02 00:00:00</td>\n",
       "      <td> 1.188917</td>\n",
       "      <td> 0.581120</td>\n",
       "      <td> 0.861597</td>\n",
       "      <td>-0.213885</td>\n",
       "    </tr>\n",
       "    <tr>\n",
       "      <th>2</th>\n",
       "      <td> 2000-01-03 00:00:00</td>\n",
       "      <td>-0.964200</td>\n",
       "      <td> 0.779764</td>\n",
       "      <td> 1.829062</td>\n",
       "      <td> 0.322422</td>\n",
       "    </tr>\n",
       "    <tr>\n",
       "      <th>3</th>\n",
       "      <td> 2000-01-04 00:00:00</td>\n",
       "      <td> 0.782130</td>\n",
       "      <td>-1.720670</td>\n",
       "      <td>-1.108242</td>\n",
       "      <td> 1.233489</td>\n",
       "    </tr>\n",
       "    <tr>\n",
       "      <th>4</th>\n",
       "      <td> 2000-01-05 00:00:00</td>\n",
       "      <td>-1.867017</td>\n",
       "      <td>-0.528368</td>\n",
       "      <td>-2.488309</td>\n",
       "      <td> 1.480342</td>\n",
       "    </tr>\n",
       "    <tr>\n",
       "      <th>5</th>\n",
       "      <td> 2000-01-06 00:00:00</td>\n",
       "      <td> 2.569280</td>\n",
       "      <td>-0.471901</td>\n",
       "      <td>-0.835033</td>\n",
       "      <td>-0.532133</td>\n",
       "    </tr>\n",
       "    <tr>\n",
       "      <th>6</th>\n",
       "      <td> 2000-01-07 00:00:00</td>\n",
       "      <td>-0.399323</td>\n",
       "      <td>-0.676427</td>\n",
       "      <td>-0.011256</td>\n",
       "      <td> 0.223252</td>\n",
       "    </tr>\n",
       "    <tr>\n",
       "      <th>7</th>\n",
       "      <td> 2000-01-08 00:00:00</td>\n",
       "      <td> 1.642993</td>\n",
       "      <td> 1.013420</td>\n",
       "      <td> 1.435667</td>\n",
       "      <td>-0.635862</td>\n",
       "    </tr>\n",
       "    <tr>\n",
       "      <th>8</th>\n",
       "      <td> 2000-01-09 00:00:00</td>\n",
       "      <td> 1.147308</td>\n",
       "      <td> 2.138000</td>\n",
       "      <td> 0.554171</td>\n",
       "      <td>-0.255538</td>\n",
       "    </tr>\n",
       "    <tr>\n",
       "      <th>9</th>\n",
       "      <td> 2000-01-10 00:00:00</td>\n",
       "      <td> 0.933766</td>\n",
       "      <td> 1.387155</td>\n",
       "      <td>-0.560143</td>\n",
       "      <td>-0.787083</td>\n",
       "    </tr>\n",
       "  </tbody>\n",
       "</table>\n",
       "</div>"
      ],
      "text/plain": [
       "                  date         0         1         2         3\n",
       "0  2000-01-01 00:00:00  1.103763 -1.909979 -0.808956 -2.392629\n",
       "1  2000-01-02 00:00:00  1.188917  0.581120  0.861597 -0.213885\n",
       "2  2000-01-03 00:00:00 -0.964200  0.779764  1.829062  0.322422\n",
       "3  2000-01-04 00:00:00  0.782130 -1.720670 -1.108242  1.233489\n",
       "4  2000-01-05 00:00:00 -1.867017 -0.528368 -2.488309  1.480342\n",
       "5  2000-01-06 00:00:00  2.569280 -0.471901 -0.835033 -0.532133\n",
       "6  2000-01-07 00:00:00 -0.399323 -0.676427 -0.011256  0.223252\n",
       "7  2000-01-08 00:00:00  1.642993  1.013420  1.435667 -0.635862\n",
       "8  2000-01-09 00:00:00  1.147308  2.138000  0.554171 -0.255538\n",
       "9  2000-01-10 00:00:00  0.933766  1.387155 -0.560143 -0.787083"
      ]
     },
     "execution_count": 37,
     "metadata": {},
     "output_type": "execute_result"
    }
   ],
   "source": [
    "df = pd.read_csv('data/test1.csv')\n",
    "df"
   ]
  },
  {
   "cell_type": "code",
   "execution_count": 40,
   "metadata": {
    "collapsed": false
   },
   "outputs": [
    {
     "data": {
      "text/plain": [
       "'2000-01-01 00:00:00'"
      ]
     },
     "execution_count": 40,
     "metadata": {},
     "output_type": "execute_result"
    }
   ],
   "source": [
    "df.date[0]"
   ]
  },
  {
   "cell_type": "code",
   "execution_count": 41,
   "metadata": {
    "collapsed": true
   },
   "outputs": [],
   "source": [
    "# pd.read_clipborard, pd.read_fwf, pd.read_table"
   ]
  },
  {
   "cell_type": "code",
   "execution_count": 54,
   "metadata": {
    "collapsed": false
   },
   "outputs": [
    {
     "data": {
      "text/html": [
       "<div style=\"max-height:1000px;max-width:1500px;overflow:auto;\">\n",
       "<table border=\"1\" class=\"dataframe\">\n",
       "  <thead>\n",
       "    <tr style=\"text-align: right;\">\n",
       "      <th></th>\n",
       "      <th>date</th>\n",
       "      <th>0</th>\n",
       "      <th>1</th>\n",
       "      <th>2</th>\n",
       "      <th>3</th>\n",
       "    </tr>\n",
       "    <tr>\n",
       "      <th>date</th>\n",
       "      <th></th>\n",
       "      <th></th>\n",
       "      <th></th>\n",
       "      <th></th>\n",
       "      <th></th>\n",
       "    </tr>\n",
       "  </thead>\n",
       "  <tbody>\n",
       "    <tr>\n",
       "      <th>2000-01-01</th>\n",
       "      <td>2000-01-01</td>\n",
       "      <td> 1.103763</td>\n",
       "      <td>-1.909979</td>\n",
       "      <td>-0.808956</td>\n",
       "      <td>-2.392629</td>\n",
       "    </tr>\n",
       "    <tr>\n",
       "      <th>2000-01-02</th>\n",
       "      <td>2000-01-02</td>\n",
       "      <td> 1.188917</td>\n",
       "      <td> 0.581120</td>\n",
       "      <td> 0.861597</td>\n",
       "      <td>-0.213885</td>\n",
       "    </tr>\n",
       "    <tr>\n",
       "      <th>2000-01-03</th>\n",
       "      <td>2000-01-03</td>\n",
       "      <td>-0.964200</td>\n",
       "      <td> 0.779764</td>\n",
       "      <td> 1.829062</td>\n",
       "      <td> 0.322422</td>\n",
       "    </tr>\n",
       "    <tr>\n",
       "      <th>2000-01-04</th>\n",
       "      <td>2000-01-04</td>\n",
       "      <td> 0.782130</td>\n",
       "      <td>-1.720670</td>\n",
       "      <td>-1.108242</td>\n",
       "      <td> 1.233489</td>\n",
       "    </tr>\n",
       "    <tr>\n",
       "      <th>2000-01-05</th>\n",
       "      <td>2000-01-05</td>\n",
       "      <td>-1.867017</td>\n",
       "      <td>-0.528368</td>\n",
       "      <td>-2.488309</td>\n",
       "      <td> 1.480342</td>\n",
       "    </tr>\n",
       "    <tr>\n",
       "      <th>2000-01-06</th>\n",
       "      <td>2000-01-06</td>\n",
       "      <td> 2.569280</td>\n",
       "      <td>-0.471901</td>\n",
       "      <td>-0.835033</td>\n",
       "      <td>-0.532133</td>\n",
       "    </tr>\n",
       "    <tr>\n",
       "      <th>2000-01-07</th>\n",
       "      <td>2000-01-07</td>\n",
       "      <td>-0.399323</td>\n",
       "      <td>-0.676427</td>\n",
       "      <td>-0.011256</td>\n",
       "      <td> 0.223252</td>\n",
       "    </tr>\n",
       "    <tr>\n",
       "      <th>2000-01-08</th>\n",
       "      <td>2000-01-08</td>\n",
       "      <td> 1.642993</td>\n",
       "      <td> 1.013420</td>\n",
       "      <td> 1.435667</td>\n",
       "      <td>-0.635862</td>\n",
       "    </tr>\n",
       "    <tr>\n",
       "      <th>2000-01-09</th>\n",
       "      <td>2000-01-09</td>\n",
       "      <td> 1.147308</td>\n",
       "      <td> 2.138000</td>\n",
       "      <td> 0.554171</td>\n",
       "      <td>-0.255538</td>\n",
       "    </tr>\n",
       "    <tr>\n",
       "      <th>2000-01-10</th>\n",
       "      <td>2000-01-10</td>\n",
       "      <td> 0.933766</td>\n",
       "      <td> 1.387155</td>\n",
       "      <td>-0.560143</td>\n",
       "      <td>-0.787083</td>\n",
       "    </tr>\n",
       "  </tbody>\n",
       "</table>\n",
       "</div>"
      ],
      "text/plain": [
       "                 date         0         1         2         3\n",
       "date                                                         \n",
       "2000-01-01 2000-01-01  1.103763 -1.909979 -0.808956 -2.392629\n",
       "2000-01-02 2000-01-02  1.188917  0.581120  0.861597 -0.213885\n",
       "2000-01-03 2000-01-03 -0.964200  0.779764  1.829062  0.322422\n",
       "2000-01-04 2000-01-04  0.782130 -1.720670 -1.108242  1.233489\n",
       "2000-01-05 2000-01-05 -1.867017 -0.528368 -2.488309  1.480342\n",
       "2000-01-06 2000-01-06  2.569280 -0.471901 -0.835033 -0.532133\n",
       "2000-01-07 2000-01-07 -0.399323 -0.676427 -0.011256  0.223252\n",
       "2000-01-08 2000-01-08  1.642993  1.013420  1.435667 -0.635862\n",
       "2000-01-09 2000-01-09  1.147308  2.138000  0.554171 -0.255538\n",
       "2000-01-10 2000-01-10  0.933766  1.387155 -0.560143 -0.787083"
      ]
     },
     "execution_count": 54,
     "metadata": {},
     "output_type": "execute_result"
    }
   ],
   "source": [
    "df2 = pd.read_csv('data/test1.csv', parse_dates=['date']) # turns the date column from a string into datetime\n",
    "df3 = df2.set_index('date', drop=False) # turns the index indo an accessible column\n",
    "df3"
   ]
  },
  {
   "cell_type": "code",
   "execution_count": 47,
   "metadata": {
    "collapsed": true
   },
   "outputs": [],
   "source": [
    "# The column names are strings"
   ]
  },
  {
   "cell_type": "code",
   "execution_count": 49,
   "metadata": {
    "collapsed": false
   },
   "outputs": [
    {
     "data": {
      "text/plain": [
       "'date'"
      ]
     },
     "execution_count": 49,
     "metadata": {},
     "output_type": "execute_result"
    }
   ],
   "source": [
    "df2.index.name # the index_col='date' names the index"
   ]
  },
  {
   "cell_type": "code",
   "execution_count": 56,
   "metadata": {
    "collapsed": false
   },
   "outputs": [
    {
     "data": {
      "text/html": [
       "<div style=\"max-height:1000px;max-width:1500px;overflow:auto;\">\n",
       "<table border=\"1\" class=\"dataframe\">\n",
       "  <thead>\n",
       "    <tr style=\"text-align: right;\">\n",
       "      <th></th>\n",
       "      <th>date</th>\n",
       "      <th>0</th>\n",
       "      <th>1</th>\n",
       "      <th>2</th>\n",
       "      <th>3</th>\n",
       "      <th>time</th>\n",
       "    </tr>\n",
       "  </thead>\n",
       "  <tbody>\n",
       "    <tr>\n",
       "      <th>0</th>\n",
       "      <td> 2000-01-01</td>\n",
       "      <td> 1.103763</td>\n",
       "      <td>-1.909979</td>\n",
       "      <td>-0.808956</td>\n",
       "      <td>-2.392629</td>\n",
       "      <td> 00:00:00</td>\n",
       "    </tr>\n",
       "    <tr>\n",
       "      <th>1</th>\n",
       "      <td> 2000-01-02</td>\n",
       "      <td> 1.188917</td>\n",
       "      <td> 0.581120</td>\n",
       "      <td> 0.861597</td>\n",
       "      <td>-0.213885</td>\n",
       "      <td> 00:00:00</td>\n",
       "    </tr>\n",
       "    <tr>\n",
       "      <th>2</th>\n",
       "      <td> 2000-01-03</td>\n",
       "      <td>-0.964200</td>\n",
       "      <td> 0.779764</td>\n",
       "      <td> 1.829062</td>\n",
       "      <td> 0.322422</td>\n",
       "      <td> 00:00:00</td>\n",
       "    </tr>\n",
       "    <tr>\n",
       "      <th>3</th>\n",
       "      <td> 2000-01-04</td>\n",
       "      <td> 0.782130</td>\n",
       "      <td>-1.720670</td>\n",
       "      <td>-1.108242</td>\n",
       "      <td> 1.233489</td>\n",
       "      <td> 00:00:00</td>\n",
       "    </tr>\n",
       "    <tr>\n",
       "      <th>4</th>\n",
       "      <td> 2000-01-05</td>\n",
       "      <td>-1.867017</td>\n",
       "      <td>-0.528368</td>\n",
       "      <td>-2.488309</td>\n",
       "      <td> 1.480342</td>\n",
       "      <td> 00:00:00</td>\n",
       "    </tr>\n",
       "    <tr>\n",
       "      <th>5</th>\n",
       "      <td> 2000-01-06</td>\n",
       "      <td> 2.569280</td>\n",
       "      <td>-0.471901</td>\n",
       "      <td>-0.835033</td>\n",
       "      <td>-0.532133</td>\n",
       "      <td> 00:00:00</td>\n",
       "    </tr>\n",
       "    <tr>\n",
       "      <th>6</th>\n",
       "      <td> 2000-01-07</td>\n",
       "      <td>-0.399323</td>\n",
       "      <td>-0.676427</td>\n",
       "      <td>-0.011256</td>\n",
       "      <td> 0.223252</td>\n",
       "      <td> 00:00:00</td>\n",
       "    </tr>\n",
       "    <tr>\n",
       "      <th>7</th>\n",
       "      <td> 2000-01-08</td>\n",
       "      <td> 1.642993</td>\n",
       "      <td> 1.013420</td>\n",
       "      <td> 1.435667</td>\n",
       "      <td>-0.635862</td>\n",
       "      <td> 00:00:00</td>\n",
       "    </tr>\n",
       "    <tr>\n",
       "      <th>8</th>\n",
       "      <td> 2000-01-09</td>\n",
       "      <td> 1.147308</td>\n",
       "      <td> 2.138000</td>\n",
       "      <td> 0.554171</td>\n",
       "      <td>-0.255538</td>\n",
       "      <td> 00:00:00</td>\n",
       "    </tr>\n",
       "    <tr>\n",
       "      <th>9</th>\n",
       "      <td> 2000-01-10</td>\n",
       "      <td> 0.933766</td>\n",
       "      <td> 1.387155</td>\n",
       "      <td>-0.560143</td>\n",
       "      <td>-0.787083</td>\n",
       "      <td> 00:00:00</td>\n",
       "    </tr>\n",
       "  </tbody>\n",
       "</table>\n",
       "</div>"
      ],
      "text/plain": [
       "         date         0         1         2         3      time\n",
       "0  2000-01-01  1.103763 -1.909979 -0.808956 -2.392629  00:00:00\n",
       "1  2000-01-02  1.188917  0.581120  0.861597 -0.213885  00:00:00\n",
       "2  2000-01-03 -0.964200  0.779764  1.829062  0.322422  00:00:00\n",
       "3  2000-01-04  0.782130 -1.720670 -1.108242  1.233489  00:00:00\n",
       "4  2000-01-05 -1.867017 -0.528368 -2.488309  1.480342  00:00:00\n",
       "5  2000-01-06  2.569280 -0.471901 -0.835033 -0.532133  00:00:00\n",
       "6  2000-01-07 -0.399323 -0.676427 -0.011256  0.223252  00:00:00\n",
       "7  2000-01-08  1.642993  1.013420  1.435667 -0.635862  00:00:00\n",
       "8  2000-01-09  1.147308  2.138000  0.554171 -0.255538  00:00:00\n",
       "9  2000-01-10  0.933766  1.387155 -0.560143 -0.787083  00:00:00"
      ]
     },
     "execution_count": 56,
     "metadata": {},
     "output_type": "execute_result"
    }
   ],
   "source": [
    "pd.read_csv('data/test2.csv')"
   ]
  },
  {
   "cell_type": "code",
   "execution_count": 57,
   "metadata": {
    "collapsed": true
   },
   "outputs": [],
   "source": [
    "# Date and time are split across two columns"
   ]
  },
  {
   "cell_type": "code",
   "execution_count": 62,
   "metadata": {
    "collapsed": false
   },
   "outputs": [
    {
     "data": {
      "text/html": [
       "<div style=\"max-height:1000px;max-width:1500px;overflow:auto;\">\n",
       "<table border=\"1\" class=\"dataframe\">\n",
       "  <thead>\n",
       "    <tr style=\"text-align: right;\">\n",
       "      <th></th>\n",
       "      <th>date_time</th>\n",
       "      <th>0</th>\n",
       "      <th>1</th>\n",
       "      <th>2</th>\n",
       "      <th>3</th>\n",
       "    </tr>\n",
       "  </thead>\n",
       "  <tbody>\n",
       "    <tr>\n",
       "      <th>0</th>\n",
       "      <td>2000-01-01</td>\n",
       "      <td> 1.103763</td>\n",
       "      <td>-1.909979</td>\n",
       "      <td>-0.808956</td>\n",
       "      <td>-2.392629</td>\n",
       "    </tr>\n",
       "    <tr>\n",
       "      <th>1</th>\n",
       "      <td>2000-01-02</td>\n",
       "      <td> 1.188917</td>\n",
       "      <td> 0.581120</td>\n",
       "      <td> 0.861597</td>\n",
       "      <td>-0.213885</td>\n",
       "    </tr>\n",
       "    <tr>\n",
       "      <th>2</th>\n",
       "      <td>2000-01-03</td>\n",
       "      <td>-0.964200</td>\n",
       "      <td> 0.779764</td>\n",
       "      <td> 1.829062</td>\n",
       "      <td> 0.322422</td>\n",
       "    </tr>\n",
       "    <tr>\n",
       "      <th>3</th>\n",
       "      <td>2000-01-04</td>\n",
       "      <td> 0.782130</td>\n",
       "      <td>-1.720670</td>\n",
       "      <td>-1.108242</td>\n",
       "      <td> 1.233489</td>\n",
       "    </tr>\n",
       "    <tr>\n",
       "      <th>4</th>\n",
       "      <td>2000-01-05</td>\n",
       "      <td>-1.867017</td>\n",
       "      <td>-0.528368</td>\n",
       "      <td>-2.488309</td>\n",
       "      <td> 1.480342</td>\n",
       "    </tr>\n",
       "    <tr>\n",
       "      <th>5</th>\n",
       "      <td>2000-01-06</td>\n",
       "      <td> 2.569280</td>\n",
       "      <td>-0.471901</td>\n",
       "      <td>-0.835033</td>\n",
       "      <td>-0.532133</td>\n",
       "    </tr>\n",
       "    <tr>\n",
       "      <th>6</th>\n",
       "      <td>2000-01-07</td>\n",
       "      <td>-0.399323</td>\n",
       "      <td>-0.676427</td>\n",
       "      <td>-0.011256</td>\n",
       "      <td> 0.223252</td>\n",
       "    </tr>\n",
       "    <tr>\n",
       "      <th>7</th>\n",
       "      <td>2000-01-08</td>\n",
       "      <td> 1.642993</td>\n",
       "      <td> 1.013420</td>\n",
       "      <td> 1.435667</td>\n",
       "      <td>-0.635862</td>\n",
       "    </tr>\n",
       "    <tr>\n",
       "      <th>8</th>\n",
       "      <td>2000-01-09</td>\n",
       "      <td> 1.147308</td>\n",
       "      <td> 2.138000</td>\n",
       "      <td> 0.554171</td>\n",
       "      <td>-0.255538</td>\n",
       "    </tr>\n",
       "    <tr>\n",
       "      <th>9</th>\n",
       "      <td>2000-01-10</td>\n",
       "      <td> 0.933766</td>\n",
       "      <td> 1.387155</td>\n",
       "      <td>-0.560143</td>\n",
       "      <td>-0.787083</td>\n",
       "    </tr>\n",
       "  </tbody>\n",
       "</table>\n",
       "</div>"
      ],
      "text/plain": [
       "   date_time         0         1         2         3\n",
       "0 2000-01-01  1.103763 -1.909979 -0.808956 -2.392629\n",
       "1 2000-01-02  1.188917  0.581120  0.861597 -0.213885\n",
       "2 2000-01-03 -0.964200  0.779764  1.829062  0.322422\n",
       "3 2000-01-04  0.782130 -1.720670 -1.108242  1.233489\n",
       "4 2000-01-05 -1.867017 -0.528368 -2.488309  1.480342\n",
       "5 2000-01-06  2.569280 -0.471901 -0.835033 -0.532133\n",
       "6 2000-01-07 -0.399323 -0.676427 -0.011256  0.223252\n",
       "7 2000-01-08  1.642993  1.013420  1.435667 -0.635862\n",
       "8 2000-01-09  1.147308  2.138000  0.554171 -0.255538\n",
       "9 2000-01-10  0.933766  1.387155 -0.560143 -0.787083"
      ]
     },
     "execution_count": 62,
     "metadata": {},
     "output_type": "execute_result"
    }
   ],
   "source": [
    "pd.read_csv('data/test2.csv', parse_dates=[['date', 'time']]) #combines the two in to one column"
   ]
  },
  {
   "cell_type": "code",
   "execution_count": 64,
   "metadata": {
    "collapsed": false
   },
   "outputs": [
    {
     "data": {
      "text/html": [
       "<div style=\"max-height:1000px;max-width:1500px;overflow:auto;\">\n",
       "<table border=\"1\" class=\"dataframe\">\n",
       "  <thead>\n",
       "    <tr style=\"text-align: right;\">\n",
       "      <th></th>\n",
       "      <th>0</th>\n",
       "      <th>1</th>\n",
       "      <th>2</th>\n",
       "      <th>3</th>\n",
       "    </tr>\n",
       "    <tr>\n",
       "      <th>date_time</th>\n",
       "      <th></th>\n",
       "      <th></th>\n",
       "      <th></th>\n",
       "      <th></th>\n",
       "    </tr>\n",
       "  </thead>\n",
       "  <tbody>\n",
       "    <tr>\n",
       "      <th>2000-01-01</th>\n",
       "      <td> 1.103763</td>\n",
       "      <td>-1.909979</td>\n",
       "      <td>-0.808956</td>\n",
       "      <td>-2.392629</td>\n",
       "    </tr>\n",
       "    <tr>\n",
       "      <th>2000-01-02</th>\n",
       "      <td> 1.188917</td>\n",
       "      <td> 0.581120</td>\n",
       "      <td> 0.861597</td>\n",
       "      <td>-0.213885</td>\n",
       "    </tr>\n",
       "    <tr>\n",
       "      <th>2000-01-03</th>\n",
       "      <td>-0.964200</td>\n",
       "      <td> 0.779764</td>\n",
       "      <td> 1.829062</td>\n",
       "      <td> 0.322422</td>\n",
       "    </tr>\n",
       "    <tr>\n",
       "      <th>2000-01-04</th>\n",
       "      <td> 0.782130</td>\n",
       "      <td>-1.720670</td>\n",
       "      <td>-1.108242</td>\n",
       "      <td> 1.233489</td>\n",
       "    </tr>\n",
       "    <tr>\n",
       "      <th>2000-01-05</th>\n",
       "      <td>-1.867017</td>\n",
       "      <td>-0.528368</td>\n",
       "      <td>-2.488309</td>\n",
       "      <td> 1.480342</td>\n",
       "    </tr>\n",
       "    <tr>\n",
       "      <th>2000-01-06</th>\n",
       "      <td> 2.569280</td>\n",
       "      <td>-0.471901</td>\n",
       "      <td>-0.835033</td>\n",
       "      <td>-0.532133</td>\n",
       "    </tr>\n",
       "    <tr>\n",
       "      <th>2000-01-07</th>\n",
       "      <td>-0.399323</td>\n",
       "      <td>-0.676427</td>\n",
       "      <td>-0.011256</td>\n",
       "      <td> 0.223252</td>\n",
       "    </tr>\n",
       "    <tr>\n",
       "      <th>2000-01-08</th>\n",
       "      <td> 1.642993</td>\n",
       "      <td> 1.013420</td>\n",
       "      <td> 1.435667</td>\n",
       "      <td>-0.635862</td>\n",
       "    </tr>\n",
       "    <tr>\n",
       "      <th>2000-01-09</th>\n",
       "      <td> 1.147308</td>\n",
       "      <td> 2.138000</td>\n",
       "      <td> 0.554171</td>\n",
       "      <td>-0.255538</td>\n",
       "    </tr>\n",
       "    <tr>\n",
       "      <th>2000-01-10</th>\n",
       "      <td> 0.933766</td>\n",
       "      <td> 1.387155</td>\n",
       "      <td>-0.560143</td>\n",
       "      <td>-0.787083</td>\n",
       "    </tr>\n",
       "  </tbody>\n",
       "</table>\n",
       "</div>"
      ],
      "text/plain": [
       "                   0         1         2         3\n",
       "date_time                                         \n",
       "2000-01-01  1.103763 -1.909979 -0.808956 -2.392629\n",
       "2000-01-02  1.188917  0.581120  0.861597 -0.213885\n",
       "2000-01-03 -0.964200  0.779764  1.829062  0.322422\n",
       "2000-01-04  0.782130 -1.720670 -1.108242  1.233489\n",
       "2000-01-05 -1.867017 -0.528368 -2.488309  1.480342\n",
       "2000-01-06  2.569280 -0.471901 -0.835033 -0.532133\n",
       "2000-01-07 -0.399323 -0.676427 -0.011256  0.223252\n",
       "2000-01-08  1.642993  1.013420  1.435667 -0.635862\n",
       "2000-01-09  1.147308  2.138000  0.554171 -0.255538\n",
       "2000-01-10  0.933766  1.387155 -0.560143 -0.787083"
      ]
     },
     "execution_count": 64,
     "metadata": {},
     "output_type": "execute_result"
    }
   ],
   "source": [
    "pd.read_csv('data/test2.csv', parse_dates=[['date', 'time']], index_col='date_time') #sets index"
   ]
  },
  {
   "cell_type": "code",
   "execution_count": null,
   "metadata": {
    "collapsed": true
   },
   "outputs": [],
   "source": []
  }
 ],
 "metadata": {
  "kernelspec": {
   "display_name": "Python 2",
   "language": "python",
   "name": "python2"
  },
  "language_info": {
   "codemirror_mode": {
    "name": "ipython",
    "version": 2
   },
   "file_extension": ".py",
   "mimetype": "text/x-python",
   "name": "python",
   "nbconvert_exporter": "python",
   "pygments_lexer": "ipython2",
   "version": "2.7.9"
  }
 },
 "nbformat": 4,
 "nbformat_minor": 0
}
