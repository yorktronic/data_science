{
 "cells": [
  {
   "cell_type": "code",
   "execution_count": 1,
   "metadata": {
    "collapsed": true
   },
   "outputs": [],
   "source": [
    "from pandas import Series, DataFrame\n",
    "import pandas as pd\n",
    "import numpy as np\n",
    "from datetime import datetime\n",
    "#pd.set_printoptions(notebook_repr_html=False)\n",
    "\n",
    "from pandas import *\n",
    "\n",
    "import matplotlib as mpl"
   ]
  },
  {
   "cell_type": "code",
   "execution_count": 2,
   "metadata": {
    "collapsed": true
   },
   "outputs": [],
   "source": [
    "dates = pd.date_range('2012-07-16', '2012-07-21')\n",
    "atemps = Series([101.5, 98, 95, 99, 100, 92], index = dates)"
   ]
  },
  {
   "cell_type": "code",
   "execution_count": 3,
   "metadata": {
    "collapsed": false
   },
   "outputs": [
    {
     "data": {
      "text/plain": [
       "2012-07-16    101.5\n",
       "2012-07-17     98.0\n",
       "2012-07-18     95.0\n",
       "2012-07-19     99.0\n",
       "2012-07-20    100.0\n",
       "2012-07-21     92.0\n",
       "Freq: D, dtype: float64"
      ]
     },
     "execution_count": 3,
     "metadata": {},
     "output_type": "execute_result"
    }
   ],
   "source": [
    "atemps"
   ]
  },
  {
   "cell_type": "code",
   "execution_count": 4,
   "metadata": {
    "collapsed": true
   },
   "outputs": [],
   "source": [
    "# Created a series of temps with datetime objects as the indicies"
   ]
  },
  {
   "cell_type": "code",
   "execution_count": 5,
   "metadata": {
    "collapsed": false
   },
   "outputs": [
    {
     "data": {
      "text/plain": [
       "95.0"
      ]
     },
     "execution_count": 5,
     "metadata": {},
     "output_type": "execute_result"
    }
   ],
   "source": [
    "idx = atemps.index[2]\n",
    "atemps[idx]"
   ]
  },
  {
   "cell_type": "code",
   "execution_count": 6,
   "metadata": {
    "collapsed": true
   },
   "outputs": [],
   "source": [
    "sdtemps = Series([73, 78, 77, 78, 78, 77], index=dates)"
   ]
  },
  {
   "cell_type": "code",
   "execution_count": 7,
   "metadata": {
    "collapsed": true
   },
   "outputs": [],
   "source": [
    "temps = DataFrame({'Austin' : atemps, 'San Diego': sdtemps})"
   ]
  },
  {
   "cell_type": "code",
   "execution_count": 8,
   "metadata": {
    "collapsed": false
   },
   "outputs": [
    {
     "data": {
      "text/html": [
       "<div style=\"max-height:1000px;max-width:1500px;overflow:auto;\">\n",
       "<table border=\"1\" class=\"dataframe\">\n",
       "  <thead>\n",
       "    <tr style=\"text-align: right;\">\n",
       "      <th></th>\n",
       "      <th>Austin</th>\n",
       "      <th>San Diego</th>\n",
       "    </tr>\n",
       "  </thead>\n",
       "  <tbody>\n",
       "    <tr>\n",
       "      <th>2012-07-16</th>\n",
       "      <td> 101.5</td>\n",
       "      <td> 73</td>\n",
       "    </tr>\n",
       "    <tr>\n",
       "      <th>2012-07-17</th>\n",
       "      <td>  98.0</td>\n",
       "      <td> 78</td>\n",
       "    </tr>\n",
       "    <tr>\n",
       "      <th>2012-07-18</th>\n",
       "      <td>  95.0</td>\n",
       "      <td> 77</td>\n",
       "    </tr>\n",
       "    <tr>\n",
       "      <th>2012-07-19</th>\n",
       "      <td>  99.0</td>\n",
       "      <td> 78</td>\n",
       "    </tr>\n",
       "    <tr>\n",
       "      <th>2012-07-20</th>\n",
       "      <td> 100.0</td>\n",
       "      <td> 78</td>\n",
       "    </tr>\n",
       "    <tr>\n",
       "      <th>2012-07-21</th>\n",
       "      <td>  92.0</td>\n",
       "      <td> 77</td>\n",
       "    </tr>\n",
       "  </tbody>\n",
       "</table>\n",
       "</div>"
      ],
      "text/plain": [
       "            Austin  San Diego\n",
       "2012-07-16   101.5         73\n",
       "2012-07-17    98.0         78\n",
       "2012-07-18    95.0         77\n",
       "2012-07-19    99.0         78\n",
       "2012-07-20   100.0         78\n",
       "2012-07-21    92.0         77"
      ]
     },
     "execution_count": 8,
     "metadata": {},
     "output_type": "execute_result"
    }
   ],
   "source": [
    "temps"
   ]
  },
  {
   "cell_type": "code",
   "execution_count": 10,
   "metadata": {
    "collapsed": false
   },
   "outputs": [
    {
     "data": {
      "text/plain": [
       "2012-07-16    73\n",
       "2012-07-17    78\n",
       "2012-07-18    77\n",
       "2012-07-19    78\n",
       "2012-07-20    78\n",
       "2012-07-21    77\n",
       "Freq: D, Name: San Diego, dtype: int64"
      ]
     },
     "execution_count": 10,
     "metadata": {},
     "output_type": "execute_result"
    }
   ],
   "source": [
    "temps['San Diego']"
   ]
  },
  {
   "cell_type": "code",
   "execution_count": 11,
   "metadata": {
    "collapsed": true
   },
   "outputs": [],
   "source": [
    "temps['Diff'] = temps['Austin'] - temps['San Diego']"
   ]
  },
  {
   "cell_type": "code",
   "execution_count": 12,
   "metadata": {
    "collapsed": false
   },
   "outputs": [
    {
     "data": {
      "text/html": [
       "<div style=\"max-height:1000px;max-width:1500px;overflow:auto;\">\n",
       "<table border=\"1\" class=\"dataframe\">\n",
       "  <thead>\n",
       "    <tr style=\"text-align: right;\">\n",
       "      <th></th>\n",
       "      <th>Austin</th>\n",
       "      <th>San Diego</th>\n",
       "      <th>Diff</th>\n",
       "    </tr>\n",
       "  </thead>\n",
       "  <tbody>\n",
       "    <tr>\n",
       "      <th>2012-07-16</th>\n",
       "      <td> 101.5</td>\n",
       "      <td> 73</td>\n",
       "      <td> 28.5</td>\n",
       "    </tr>\n",
       "    <tr>\n",
       "      <th>2012-07-17</th>\n",
       "      <td>  98.0</td>\n",
       "      <td> 78</td>\n",
       "      <td> 20.0</td>\n",
       "    </tr>\n",
       "    <tr>\n",
       "      <th>2012-07-18</th>\n",
       "      <td>  95.0</td>\n",
       "      <td> 77</td>\n",
       "      <td> 18.0</td>\n",
       "    </tr>\n",
       "    <tr>\n",
       "      <th>2012-07-19</th>\n",
       "      <td>  99.0</td>\n",
       "      <td> 78</td>\n",
       "      <td> 21.0</td>\n",
       "    </tr>\n",
       "    <tr>\n",
       "      <th>2012-07-20</th>\n",
       "      <td> 100.0</td>\n",
       "      <td> 78</td>\n",
       "      <td> 22.0</td>\n",
       "    </tr>\n",
       "    <tr>\n",
       "      <th>2012-07-21</th>\n",
       "      <td>  92.0</td>\n",
       "      <td> 77</td>\n",
       "      <td> 15.0</td>\n",
       "    </tr>\n",
       "  </tbody>\n",
       "</table>\n",
       "</div>"
      ],
      "text/plain": [
       "            Austin  San Diego  Diff\n",
       "2012-07-16   101.5         73  28.5\n",
       "2012-07-17    98.0         78  20.0\n",
       "2012-07-18    95.0         77  18.0\n",
       "2012-07-19    99.0         78  21.0\n",
       "2012-07-20   100.0         78  22.0\n",
       "2012-07-21    92.0         77  15.0"
      ]
     },
     "execution_count": 12,
     "metadata": {},
     "output_type": "execute_result"
    }
   ],
   "source": [
    "temps"
   ]
  },
  {
   "cell_type": "code",
   "execution_count": 13,
   "metadata": {
    "collapsed": false
   },
   "outputs": [
    {
     "data": {
      "text/html": [
       "<div style=\"max-height:1000px;max-width:1500px;overflow:auto;\">\n",
       "<table border=\"1\" class=\"dataframe\">\n",
       "  <thead>\n",
       "    <tr style=\"text-align: right;\">\n",
       "      <th></th>\n",
       "      <th>Austin</th>\n",
       "      <th>San Diego</th>\n",
       "    </tr>\n",
       "  </thead>\n",
       "  <tbody>\n",
       "    <tr>\n",
       "      <th>2012-07-16</th>\n",
       "      <td> 101.5</td>\n",
       "      <td> 73</td>\n",
       "    </tr>\n",
       "    <tr>\n",
       "      <th>2012-07-17</th>\n",
       "      <td>  98.0</td>\n",
       "      <td> 78</td>\n",
       "    </tr>\n",
       "    <tr>\n",
       "      <th>2012-07-18</th>\n",
       "      <td>  95.0</td>\n",
       "      <td> 77</td>\n",
       "    </tr>\n",
       "    <tr>\n",
       "      <th>2012-07-19</th>\n",
       "      <td>  99.0</td>\n",
       "      <td> 78</td>\n",
       "    </tr>\n",
       "    <tr>\n",
       "      <th>2012-07-20</th>\n",
       "      <td> 100.0</td>\n",
       "      <td> 78</td>\n",
       "    </tr>\n",
       "    <tr>\n",
       "      <th>2012-07-21</th>\n",
       "      <td>  92.0</td>\n",
       "      <td> 77</td>\n",
       "    </tr>\n",
       "  </tbody>\n",
       "</table>\n",
       "</div>"
      ],
      "text/plain": [
       "            Austin  San Diego\n",
       "2012-07-16   101.5         73\n",
       "2012-07-17    98.0         78\n",
       "2012-07-18    95.0         77\n",
       "2012-07-19    99.0         78\n",
       "2012-07-20   100.0         78\n",
       "2012-07-21    92.0         77"
      ]
     },
     "execution_count": 13,
     "metadata": {},
     "output_type": "execute_result"
    }
   ],
   "source": [
    "del temps['Diff']\n",
    "temps"
   ]
  },
  {
   "cell_type": "code",
   "execution_count": 14,
   "metadata": {
    "collapsed": true
   },
   "outputs": [],
   "source": [
    "# Stopped lecture at 34:37 https://www.youtube.com/watch?v=0unf-C-pBYE"
   ]
  },
  {
   "cell_type": "code",
   "execution_count": null,
   "metadata": {
    "collapsed": true
   },
   "outputs": [],
   "source": []
  }
 ],
 "metadata": {
  "kernelspec": {
   "display_name": "Python 2",
   "language": "python",
   "name": "python2"
  },
  "language_info": {
   "codemirror_mode": {
    "name": "ipython",
    "version": 2
   },
   "file_extension": ".py",
   "mimetype": "text/x-python",
   "name": "python",
   "nbconvert_exporter": "python",
   "pygments_lexer": "ipython2",
   "version": "2.7.9"
  }
 },
 "nbformat": 4,
 "nbformat_minor": 0
}
